{
  "nbformat": 4,
  "nbformat_minor": 0,
  "metadata": {
    "colab": {
      "name": "make_qiita_title_generation_dataset.ipynb",
      "provenance": [],
      "collapsed_sections": []
    },
    "kernelspec": {
      "name": "python3",
      "display_name": "Python 3"
    },
    "language_info": {
      "name": "python"
    }
  },
  "cells": [
    {
      "cell_type": "markdown",
      "source": [
        "# Qiitaの本文からタイトルを生成するためのデータセットを作る\n",
        "\n",
        "- Qiitaの本文からタイトルを生成する記事: [【人工知能】深層学習で「記事タイトルを自動生成」する](https://qiita.com/sonoisa/items/30876467ad5a8a81821f)\n",
        "\n",
        "※記事で用いたデータセットと類似のものを作るためのコードです。必ずしも同じものができる訳ではありません。"
      ],
      "metadata": {
        "id": "Jc3mw9KMx54V"
      }
    },
    {
      "cell_type": "markdown",
      "source": [
        "## Qiita APIのアクセストークン設定\n",
        "\n",
        "※[自身のアカウントのアプリケーション設定](https://qiita.com/settings/applications)にて発行した個人用アクセストークン（スコープはread_qiitaのみ）を次の変数<code>QIITA_API_TOKEN</code>に書いてから、以降を実行してください。\n",
        "\n",
        "※アクセストークンはパスワードと同等のものです。他人には絶対に教えていけません。"
      ],
      "metadata": {
        "id": "IjqjsWWGyc0P"
      }
    },
    {
      "cell_type": "code",
      "execution_count": 10,
      "metadata": {
        "id": "PTBhYVSMxvin"
      },
      "outputs": [],
      "source": [
        "QIITA_API_TOKEN = \"\"  # 個人用アクセストークン"
      ]
    },
    {
      "cell_type": "markdown",
      "source": [
        "## [Qiitaの殿堂](http://youwht.ga)からLGTMの多い記事の一覧を取得する"
      ],
      "metadata": {
        "id": "6lII3rHPyhFu"
      }
    },
    {
      "cell_type": "code",
      "source": [
        "!mkdir -p /content/dendou"
      ],
      "metadata": {
        "id": "NNlxm_JIygh6"
      },
      "execution_count": 1,
      "outputs": []
    },
    {
      "cell_type": "code",
      "source": [
        "year_month_list = [f\"{year}{month:02}\" \n",
        "                   for year in range(2012, 2020) \n",
        "                   for month in range(1, 13)]"
      ],
      "metadata": {
        "id": "jTJVVE3t4iig"
      },
      "execution_count": 2,
      "outputs": []
    },
    {
      "cell_type": "code",
      "source": [
        "import time\n",
        "from tqdm import tqdm\n",
        "\n",
        "for year_month in tqdm(year_month_list):\n",
        "    !wget -qO /content/dendou/{year_month}_DEN.csv http://youwht.ga/static/DENDOU/{year_month}_DEN.csv\n",
        "    time.sleep(1)"
      ],
      "metadata": {
        "colab": {
          "base_uri": "https://localhost:8080/"
        },
        "id": "PnCFytMH41Q2",
        "outputId": "2d0a7d7d-b8a4-4acd-a828-411e1187a754"
      },
      "execution_count": 3,
      "outputs": [
        {
          "output_type": "stream",
          "name": "stderr",
          "text": [
            "100%|██████████| 96/96 [02:08<00:00,  1.33s/it]\n"
          ]
        }
      ]
    },
    {
      "cell_type": "code",
      "source": [
        "import glob\n",
        "import csv\n",
        "import xml.etree.ElementTree as ET\n",
        "import re\n",
        "from tqdm import tqdm\n",
        "\n",
        "LINK_PATTERN = re.compile(r'<a href=\"([^\"]+)\" target=\"_blank\" title=\"([^\"]+)\">(.*?)(</a>)?')\n",
        "\n",
        "data_files = sorted(glob.glob(\"/content/dendou/*.csv\"))\n",
        "dataset = []\n",
        "\n",
        "items = set()\n",
        "\n",
        "for data_file in tqdm(data_files):\n",
        "    with open(data_file, \"r\", encoding=\"utf-8\") as f_in:\n",
        "        reader = csv.reader(f_in)\n",
        "        header = next(reader)  # skip header\n",
        "\n",
        "        for row in reader:\n",
        "            lgtm = row[1]\n",
        "            link_match = LINK_PATTERN.match(row[2])\n",
        "            if link_match is None:\n",
        "                # print(row[2])\n",
        "                continue\n",
        "            \n",
        "            href = link_match[1]\n",
        "            tags = link_match[2]\n",
        "            title = link_match[3]\n",
        "            \n",
        "            if href not in items:\n",
        "                items.add(href)\n",
        "                dataset.append({\n",
        "                    \"title\": title,\n",
        "                    \"url\": href,\n",
        "                    \"lgtm\": int(lgtm),\n",
        "                    \"tags\": tags\n",
        "                })\n"
      ],
      "metadata": {
        "colab": {
          "base_uri": "https://localhost:8080/"
        },
        "id": "gfERjKeK5CCB",
        "outputId": "5c11d340-83f9-464e-a3b3-36cf7cbda323"
      },
      "execution_count": 4,
      "outputs": [
        {
          "output_type": "stream",
          "name": "stderr",
          "text": [
            "100%|██████████| 96/96 [00:00<00:00, 1025.12it/s]\n"
          ]
        }
      ]
    },
    {
      "cell_type": "code",
      "source": [
        "print(f\"総記事数: {len(dataset)}\")"
      ],
      "metadata": {
        "colab": {
          "base_uri": "https://localhost:8080/"
        },
        "id": "pXpklgGz7LNr",
        "outputId": "8b68edb9-12f9-4e01-ddfa-e7a9d62cf404"
      },
      "execution_count": 5,
      "outputs": [
        {
          "output_type": "stream",
          "name": "stdout",
          "text": [
            "総記事数: 9600\n"
          ]
        }
      ]
    },
    {
      "cell_type": "code",
      "source": [
        "lgtms = [data[\"lgtm\"] for data in dataset if data[\"lgtm\"] >= 50]"
      ],
      "metadata": {
        "id": "Y1-Qzh1h8Wyr"
      },
      "execution_count": 6,
      "outputs": []
    },
    {
      "cell_type": "code",
      "source": [
        "print(f\"LGTMが50以上の記事数: {len(lgtms)}\")\n",
        "print(f\"LGTMの最小値: {min(lgtms)}\")\n",
        "print(f\"LGTMが最大値: {max(lgtms)}\")"
      ],
      "metadata": {
        "colab": {
          "base_uri": "https://localhost:8080/"
        },
        "id": "wpsJCGGe8YaQ",
        "outputId": "b5322eb0-2c48-4968-f9cf-f4ed5a550abf"
      },
      "execution_count": 7,
      "outputs": [
        {
          "output_type": "stream",
          "name": "stdout",
          "text": [
            "LGTMが50以上の記事数: 8862\n",
            "LGTMの最小値: 50\n",
            "LGTMが最大値: 9891\n"
          ]
        }
      ]
    },
    {
      "cell_type": "markdown",
      "source": [
        "## 記事の本文をQiita APIで取得する\n",
        "\n",
        "本文の取得には12時間程度かかります。  \n",
        "Qiita APIは1時間に1000回までという制限があることに注意。"
      ],
      "metadata": {
        "id": "_bAiKv_EAkXh"
      }
    },
    {
      "cell_type": "code",
      "source": [
        "import requests\n",
        "import json\n",
        "\n",
        "def extract_item_id(url):\n",
        "    return re.sub(\"https?://qiita.com/[^/]+/items/\", \"\", url)\n",
        "\n",
        "def get_content(item_id):\n",
        "    headers = {\n",
        "        \"Authorization\": f\"Bearer {QIITA_API_TOKEN}\"\n",
        "    }\n",
        "    response = requests.get(f\"https://qiita.com/api/v2/items/{item_id}\", headers=headers)\n",
        "    if response.status_code == 200:\n",
        "        jsonDoc = response.json()\n",
        "        return jsonDoc[\"body\"], jsonDoc[\"title\"], jsonDoc[\"likes_count\"], jsonDoc[\"rendered_body\"]\n",
        "    else:\n",
        "        print(f\"WARN: {response.status_code}, {item_id}\")\n",
        "        return None, None, None, None"
      ],
      "metadata": {
        "id": "fAh0Huh98c_I"
      },
      "execution_count": 8,
      "outputs": []
    },
    {
      "cell_type": "code",
      "source": [
        "import time\n",
        "from tqdm import tqdm\n",
        "\n",
        "for data in tqdm(dataset):\n",
        "    if \"body\" in data:\n",
        "        continue\n",
        "\n",
        "    item_id = extract_item_id(data[\"url\"])\n",
        "    data[\"item_id\"] = item_id\n",
        "    body, title, likes_count, rendered_body = get_content(item_id)\n",
        "    \n",
        "    if body is not None:\n",
        "        data[\"body\"] = body\n",
        "        data[\"title\"] = title\n",
        "        data[\"lgtm\"] = likes_count\n",
        "        data[\"rendered_body\"] = rendered_body\n",
        "    \n",
        "    time.sleep(3.7)  # Qiita APIの呼び出しは1時間に1000回まで"
      ],
      "metadata": {
        "id": "SdZEwZ-DAuJc"
      },
      "execution_count": null,
      "outputs": []
    },
    {
      "cell_type": "code",
      "source": [
        "import json\n",
        "\n",
        "with open(\"/content/qiita_hit_items.json\", \"w\", encoding=\"utf-8\") as f_out:\n",
        "    json.dump(dataset, f_out, ensure_ascii=False)"
      ],
      "metadata": {
        "id": "LkfKo__q8gQC"
      },
      "execution_count": null,
      "outputs": []
    },
    {
      "cell_type": "code",
      "source": [
        ""
      ],
      "metadata": {
        "id": "6QNA4HefA0Tl"
      },
      "execution_count": null,
      "outputs": []
    }
  ]
}